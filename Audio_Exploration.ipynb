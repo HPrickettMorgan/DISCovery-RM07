{
 "cells": [
  {
   "cell_type": "markdown",
   "metadata": {},
   "source": [
    "# Exploring Vinyl Rips\n",
    "\n",
    "This notebook aims to analyze an unedited vinyl rip in `.wav` format. It will:\n",
    "1. Segment the rip into tracks\n",
    "2. Attempt to isolate and quantify background noise, rumble, woah, and flutter\n",
    "3. Qualitatively validate background noise against audio spectrograms\n",
    "4. Attempt to detect clicks and pops by looking at fast changes in energy"
   ]
  },
  {
   "cell_type": "code",
   "execution_count": null,
   "metadata": {},
   "outputs": [],
   "source": [
    "import pyAudioAnalysis"
   ]
  }
 ],
 "metadata": {
  "kernelspec": {
   "display_name": "Python 3",
   "language": "python",
   "name": "python3"
  },
  "language_info": {
   "codemirror_mode": {
    "name": "ipython",
    "version": 3
   },
   "file_extension": ".py",
   "mimetype": "text/x-python",
   "name": "python",
   "nbconvert_exporter": "python",
   "pygments_lexer": "ipython3",
   "version": "3.7.0"
  }
 },
 "nbformat": 4,
 "nbformat_minor": 4
}
