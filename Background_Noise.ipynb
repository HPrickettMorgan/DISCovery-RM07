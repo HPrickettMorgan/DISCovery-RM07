{
 "cells": [
  {
   "cell_type": "markdown",
   "metadata": {},
   "source": [
    "# Exploring Background Noise\n",
    "\n",
    "This notebook aims to analyze an unedited vinyl rip in `.wav` format. It will:\n",
    "\n",
    "First we mess with some parameters of the plotting package so graphs appear nicely and import some useful libraries."
   ]
  },
  {
   "cell_type": "code",
   "execution_count": 1,
   "metadata": {},
   "outputs": [],
   "source": [
    "import itertools\n",
    "\n",
    "import matplotlib.pyplot as plt\n",
    "plt.rcParams['figure.figsize'] = [40, 8]\n",
    "\n",
    "import numpy as np\n",
    "np.set_printoptions(suppress=True)\n",
    "\n",
    "from scipy.io import wavfile"
   ]
  },
  {
   "cell_type": "markdown",
   "metadata": {},
   "source": [
    "Import the audio analysis libraries"
   ]
  },
  {
   "cell_type": "code",
   "execution_count": 2,
   "metadata": {},
   "outputs": [],
   "source": [
    "from pyAudioAnalysis import audioBasicIO as aIO\n",
    "from pyAudioAnalysis import audioSegmentation as aS"
   ]
  },
  {
   "cell_type": "markdown",
   "metadata": {},
   "source": [
    "We import a .wav file and take the first track to analyze. "
   ]
  },
  {
   "cell_type": "code",
   "execution_count": 3,
   "metadata": {},
   "outputs": [
    {
     "name": "stdout",
     "output_type": "stream",
     "text": [
      "Track is sampled at 44100Hz with 47815168 samples.\n"
     ]
    }
   ],
   "source": [
    "filename = 'media/A.wav'\n",
    "[sampling_rate, signal] = aIO.read_audio_file(filename)\n",
    "signal = aIO.stereo_to_mono(signal)\n",
    "print(f\"Track is sampled at {sampling_rate}Hz with {signal.shape[0]} samples.\")"
   ]
  },
  {
   "cell_type": "markdown",
   "metadata": {},
   "source": [
    "Now we try to split it into tracks. On this record, we expect it to find 7 tracks with boundaries at roughly\n",
    "1. 2-123\n",
    "2. 127-242\n",
    "3. 246-460\n",
    "4. 465-632\n",
    "5. 634-766\n",
    "6. 769-924\n",
    "7. 930-1078"
   ]
  },
  {
   "cell_type": "code",
   "execution_count": null,
   "metadata": {
    "scrolled": true
   },
   "outputs": [],
   "source": [
    "segments = aS.silence_removal(signal, sampling_rate, 0.020, 0.020, smooth_window = 2, weight = 0.05, plot = True)"
   ]
  },
  {
   "cell_type": "code",
   "execution_count": null,
   "metadata": {},
   "outputs": [],
   "source": [
    "segments"
   ]
  },
  {
   "cell_type": "markdown",
   "metadata": {},
   "source": [
    "A priori, we know tracks are have a couple seconds between them, so we join any segments which don't have more than a second between them."
   ]
  },
  {
   "cell_type": "code",
   "execution_count": null,
   "metadata": {},
   "outputs": [],
   "source": [
    "filter_short = list(itertools.chain(*segments.copy()))\n",
    "\n",
    "for end, start in zip(filter_short[1::2], filter_short[2::2]):\n",
    "    if start - end < 1:\n",
    "        filter_short.remove(end)\n",
    "        filter_short.remove(start)\n",
    "\n",
    "filter_short = [[start, end] for start, end in zip(filter_short[::2], filter_short[1::2])]\n",
    "filter_short"
   ]
  },
  {
   "cell_type": "markdown",
   "metadata": {},
   "source": [
    "After this we try to fix fragmentation some more by sticking chunks less than 45 seconds long to their closest neighbor."
   ]
  },
  {
   "cell_type": "code",
   "execution_count": null,
   "metadata": {},
   "outputs": [],
   "source": [
    "def dur(pair):\n",
    "    return pair[1] - pair[0]\n",
    "\n",
    "combine_short = filter_short.copy()\n",
    "\n",
    "pair = min(combine_short, key=dur)\n",
    "while(dur(pair) < 45):\n",
    "    ix = combine_short.index(pair)\n",
    "    \n",
    "    if ix == 0:\n",
    "        left_merge = False\n",
    "    elif ix == len(combine_short) - 1:\n",
    "        left_merge = True\n",
    "    else:\n",
    "        left_merge = combine_short[ix][0] - combine_short[ix-1][1] < combine_short[ix+1][0] - combine_short[ix][1]\n",
    "        \n",
    "    if left_merge:\n",
    "        combine_short[ix-1][1] = combine_short[ix][1]\n",
    "    else:\n",
    "        combine_short[ix+1][0] = combine_short[ix][0]\n",
    "    \n",
    "    combine_short.pop(ix)\n",
    "\n",
    "    pair = min(combine_short, key=dur)\n",
    "\n",
    "combine_short"
   ]
  },
  {
   "cell_type": "markdown",
   "metadata": {},
   "source": [
    "This correlates pretty well to the tracking. We write our 'silent' intervals to `.wav` for inspection."
   ]
  },
  {
   "cell_type": "code",
   "execution_count": null,
   "metadata": {},
   "outputs": [],
   "source": [
    "def seconds_to_samples(intervals, sampling_rate):\n",
    "    return [[int(start * sampling_rate), int(end * sampling_rate)] for start, end in intervals]\n",
    "\n",
    "def invert_intervals(intervals, n_samples):\n",
    "    inverted = list(itertools.chain(*intervals.copy()))\n",
    "    if inverted[0] == 0:\n",
    "        inverted.pop(0)\n",
    "    else:\n",
    "        inverted.insert(0, 0)\n",
    "        \n",
    "    if inverted[-1] == n_samples-1:\n",
    "        inverted.pop(-1)\n",
    "    else:\n",
    "        inverted.append(n_samples-1)\n",
    "        \n",
    "    return [[start, end] for start, end in zip(inverted[::2], inverted[1::2])]"
   ]
  },
  {
   "cell_type": "code",
   "execution_count": null,
   "metadata": {},
   "outputs": [],
   "source": [
    "silent_samples_intervals = invert_intervals(seconds_to_samples(combine_short, sampling_rate), signal.shape[0])\n",
    "\n",
    "ixs = list(itertools.chain(*[range(start, end) for start, end in silent_samples_intervals]))\n",
    "wavfile.write(f\"silence.wav\", sampling_rate, signal[ixs].astype('int16'))"
   ]
  },
  {
   "cell_type": "markdown",
   "metadata": {},
   "source": [
    "Although it relatively accurately describes the position of track changes, it carries too much noise to effectively estimate silent volume."
   ]
  }
 ],
 "metadata": {
  "kernelspec": {
   "display_name": "Python3 (DISCovery)",
   "language": "python",
   "name": "discovery"
  },
  "language_info": {
   "codemirror_mode": {
    "name": "ipython",
    "version": 3
   },
   "file_extension": ".py",
   "mimetype": "text/x-python",
   "name": "python",
   "nbconvert_exporter": "python",
   "pygments_lexer": "ipython3",
   "version": "3.7.0"
  }
 },
 "nbformat": 4,
 "nbformat_minor": 4
}
